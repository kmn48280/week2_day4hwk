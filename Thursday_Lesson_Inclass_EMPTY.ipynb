{
 "cells": [
  {
   "cell_type": "markdown",
   "metadata": {},
   "source": [
    "# Object-Oriented-Programming (OOP)"
   ]
  },
  {
   "cell_type": "markdown",
   "metadata": {},
   "source": [
    "## Tasks Today:\n",
    "\n",
    "   \n",
    "\n",
    "1) <b>Creating a Class (Initializing/Declaring)</b> <br>\n",
    "2) <b>Using a Class (Instantiating)</b> <br>\n",
    " &nbsp;&nbsp;&nbsp;&nbsp; a) Creating One Instance <br>\n",
    " &nbsp;&nbsp;&nbsp;&nbsp; b) Creating Multiple Instances <br>\n",
    " &nbsp;&nbsp;&nbsp;&nbsp; c) In-Class Exercise #1 - Create a Class 'Car' and instantiate three different makes of cars <br>\n",
    "3) <b>The \\__init\\__() Method</b> <br>\n",
    " &nbsp;&nbsp;&nbsp;&nbsp; a) The 'self' Attribute <br>\n",
    "4) <b>Class Attributes</b> <br>\n",
    " &nbsp;&nbsp;&nbsp;&nbsp; a) Initializing Attributes <br>\n",
    " &nbsp;&nbsp;&nbsp;&nbsp; b) Setting an Attribute Outside of the \\__init\\__() Method <br>\n",
    " &nbsp;&nbsp;&nbsp;&nbsp; c) Setting Defaults for Attributes <br>\n",
    " &nbsp;&nbsp;&nbsp;&nbsp; d) Accessing Class Attributes <br>\n",
    " &nbsp;&nbsp;&nbsp;&nbsp; e) Changing Class Attributes <br>\n",
    " &nbsp;&nbsp;&nbsp;&nbsp; f) In-Class Exercise #2 - Add a color and wheels attribute to your 'Car' class <br>\n",
    "5) <b>Class Methods</b> <br>\n",
    " &nbsp;&nbsp;&nbsp;&nbsp; a) Creating <br>\n",
    " &nbsp;&nbsp;&nbsp;&nbsp; b) Calling <br>\n",
    " &nbsp;&nbsp;&nbsp;&nbsp; c) Modifying an Attribute's Value Through a Method <br>\n",
    " &nbsp;&nbsp;&nbsp;&nbsp; d) Incrementing an Attribute's Value Through a Method <br>\n",
    " &nbsp;&nbsp;&nbsp;&nbsp; e) In-Class Exercise #3 - Add a method that prints the cars color and wheel number, then call them <br>\n",
    "6) <b>Inheritance</b> <br>\n",
    " &nbsp;&nbsp;&nbsp;&nbsp; a) Syntax for Inheriting from a Parent Class <br>\n",
    " &nbsp;&nbsp;&nbsp;&nbsp; b) The \\__init\\__() Method for a Child Class (super()) <br>\n",
    " &nbsp;&nbsp;&nbsp;&nbsp; c) Defining Attributes and Methods for the Child Class <br>\n",
    " &nbsp;&nbsp;&nbsp;&nbsp; d) Method Overriding <br>\n",
    " &nbsp;&nbsp;&nbsp;&nbsp; e) In-Class Exercise #4 - Create a class 'Ford' that inherits from 'Car' class and initialize it as a Blue Ford Explorer with 4 wheels using the super() method <br>\n",
    "7) <b>Classes as Attributes</b> <br>\n",
    "8) <b>Exercises</b> <br>\n",
    " &nbsp;&nbsp;&nbsp;&nbsp; a) Exercise #1 - Turn the shopping cart program from yesterday into an object-oriented program <br>"
   ]
  },
  {
   "cell_type": "code",
   "execution_count": 7,
   "metadata": {},
   "outputs": [
    {
     "name": "stdout",
     "output_type": "stream",
     "text": [
      "Your cart contains: \n",
      "Your cart is empty. \n",
      "Thanks for shopping! \n"
     ]
    }
   ],
   "source": [
    "from IPython.display import clear_output\n",
    "\n",
    "cart=[]\n",
    "#show, add, remove item, clear the cart\n",
    "\n",
    "def show_cart():\n",
    "    clear_output()\n",
    "    print(\"Your cart contains: \")\n",
    "    for item in cart:\n",
    "        print(item)\n",
    "    if not cart:\n",
    "        print(\"Your cart is empty. \")\n",
    "def add_item(item):\n",
    "    clear_output()\n",
    "    cart.append(item)\n",
    "    print(f'{item} was added to your cart')\n",
    "def remove_item(item):\n",
    "    clear_output()\n",
    "    cart.remove(item)\n",
    "    print(f'{item} was removed from your cart')\n",
    "def clear_cart():\n",
    "    clear_output()\n",
    "    cart.clear #or cart = []\n",
    "    print('Your cart is empty')\n",
    "\n",
    "#UI\n",
    "\n",
    "def shopping_cart():\n",
    "    while True:\n",
    "        response = input(\"what would you like to do? You can: quit/add/remove/show/clear. \\n choose only one. \")\n",
    "        if response.lower() == 'quit':\n",
    "            show_cart()\n",
    "            print('Thanks for shopping! ')\n",
    "            break\n",
    "        elif response.lower() == 'add':\n",
    "            item= input(\"What would you like to add? \")\n",
    "            add_item(item)\n",
    "        elif response.lower() == 'remove':\n",
    "            item= input(\"What would you like to remove? \")\n",
    "            remove_item(item)\n",
    "        elif response.lower() == 'show':\n",
    "            show_cart()\n",
    "        elif response.lower() == 'clear':\n",
    "            clear_cart()\n",
    "        else:\n",
    "            print('Invalid option. you hockey puck! ')\n",
    "\n",
    "#Driver Code \n",
    "\n",
    "shopping_cart()\n"
   ]
  },
  {
   "cell_type": "code",
   "execution_count": 10,
   "metadata": {},
   "outputs": [
    {
     "name": "stdout",
     "output_type": "stream",
     "text": [
      "playing soccer\n"
     ]
    }
   ],
   "source": [
    "\n",
    "alex = {\n",
    "    'name': 'alex',\n",
    "    'age': 'old',\n",
    "    'weight': 180,\n",
    "    'activity': 'soccer',\n",
    "}\n",
    "def do_activity(person):\n",
    "    if person['activity'] == 'football':\n",
    "        print('playing football')\n",
    "    if person['activity']== 'soccer':\n",
    "        print('playing soccer')\n",
    "do_activity(alex)"
   ]
  },
  {
   "cell_type": "markdown",
   "metadata": {},
   "source": [
    "###Creating a Class (Initializing/Declaring)\n",
    "<p>When creating a class, function, or even a variable you are initializing that object. Initializing and Declaring occur at the same time in Python, whereas in lower level languages you have to declare an object before initializing it. This is the first step in the process of using a class.</p>"
   ]
  },
  {
   "cell_type": "code",
   "execution_count": 11,
   "metadata": {},
   "outputs": [],
   "source": [
    "class Car():#parantheses are optional #pascal case: every word is capitilized \n",
    "    wheels = 4\n",
    "    color = 'blue'\n",
    "    "
   ]
  },
  {
   "cell_type": "markdown",
   "metadata": {},
   "source": [
    "## Using a Class (Instantiating)\n",
    "<p>The process of creating a class is called <i>Instantiating</i>. Each time you create a variable of that type of class, it is referred to as an <i>Instance</i> of that class. This is the second step in the process of using a class.</p>"
   ]
  },
  {
   "cell_type": "markdown",
   "metadata": {},
   "source": [
    "##### Creating One Instance"
   ]
  },
  {
   "cell_type": "code",
   "execution_count": 12,
   "metadata": {},
   "outputs": [
    {
     "data": {
      "text/plain": [
       "<__main__.Car at 0x7fd75667ce50>"
      ]
     },
     "execution_count": 12,
     "metadata": {},
     "output_type": "execute_result"
    }
   ],
   "source": [
    "ford = Car() #\"ford\": instance of a class (that's why lowercase)\n",
    "ford"
   ]
  },
  {
   "cell_type": "markdown",
   "metadata": {},
   "source": [
    "##### Creating Multiple Instances"
   ]
  },
  {
   "cell_type": "code",
   "execution_count": 14,
   "metadata": {},
   "outputs": [
    {
     "name": "stdout",
     "output_type": "stream",
     "text": [
      "4\n",
      "4\n",
      "blue\n",
      "blue\n",
      "4\n"
     ]
    }
   ],
   "source": [
    "chevy = Car()\n",
    "honda = Car()\n",
    "porsche = Car()\n",
    "\n",
    "print(ford.wheels)#access attribute of instance--> use \".\"\n",
    "print(chevy.wheels)\n",
    "print(ford.color)\n",
    "print(honda.color)\n",
    "print(Car.wheels)"
   ]
  },
  {
   "cell_type": "markdown",
   "metadata": {},
   "source": [
    "##### In-Class Exercise #1 - Create a Class 'Car' and Instantiate three different makes of cars"
   ]
  },
  {
   "cell_type": "code",
   "execution_count": 18,
   "metadata": {},
   "outputs": [
    {
     "name": "stdout",
     "output_type": "stream",
     "text": [
      "gun-metal-gray\n",
      "yes\n"
     ]
    }
   ],
   "source": [
    "class Car2():\n",
    "    doors = 4\n",
    "    color = 'gun-metal-gray'\n",
    "    sunroof = 'yes'\n",
    "    wheels = 4\n",
    "\n",
    "tesla = Car2()\n",
    "honda = Car2()\n",
    "ford = Car2()\n",
    "\n",
    "print(tesla.color)\n",
    "print(tesla.sunroof)"
   ]
  },
  {
   "cell_type": "markdown",
   "metadata": {},
   "source": [
    "## The \\__init\\__() Method <br>\n",
    "<p>This method is used in almost every created class, and called only once upon the creation of the class instance. This method will initialize all variables needed for the object.</p>"
   ]
  },
  {
   "cell_type": "code",
   "execution_count": 21,
   "metadata": {},
   "outputs": [
    {
     "name": "stdout",
     "output_type": "stream",
     "text": [
      "4\n",
      "3\n",
      "4\n",
      "4.7L\n",
      "3\n",
      "4.7L\n"
     ]
    }
   ],
   "source": [
    "class Car(): \n",
    "    engine = '4.7L' #class attribute \n",
    "    \n",
    "    #constructor- NEEDS TO BE CALLED \"init\" \n",
    "    def __init__(self, num_of_wheels):\n",
    "        self.wheels = num_of_wheels #instance attribute\n",
    "        \n",
    "ford = Car(4)\n",
    "trike = Car(3)\n",
    "\n",
    "print(ford.wheels)\n",
    "print(trike.wheels)\n",
    "my_cars = [ford, trike]\n",
    "for car in my_cars:\n",
    "    print(car.wheels)\n",
    "    print(car.engine)\n",
    "    "
   ]
  },
  {
   "cell_type": "markdown",
   "metadata": {},
   "source": [
    "##### The 'self' Attribute <br>\n",
    "<p>This attribute is required to keep track of specific instance's attributes. Without the self attribute, the program would not know how to reference or keep track of an instance's attributes.</p>"
   ]
  },
  {
   "cell_type": "code",
   "execution_count": null,
   "metadata": {},
   "outputs": [],
   "source": [
    "# see above"
   ]
  },
  {
   "cell_type": "markdown",
   "metadata": {},
   "source": [
    "## Class Attributes <br>\n",
    "<p>While variables are inside of a class, they are referred to as attributes and not variables. When someone says 'attribute' you know they're speaking about a class. Attributes can be initialized through the init method, or outside of it.</p>"
   ]
  },
  {
   "cell_type": "markdown",
   "metadata": {},
   "source": [
    "##### Initializing Attributes"
   ]
  },
  {
   "cell_type": "code",
   "execution_count": null,
   "metadata": {},
   "outputs": [],
   "source": [
    "# see above"
   ]
  },
  {
   "cell_type": "markdown",
   "metadata": {},
   "source": [
    "##### Accessing Class Attributes"
   ]
  },
  {
   "cell_type": "code",
   "execution_count": null,
   "metadata": {
    "scrolled": true
   },
   "outputs": [],
   "source": [
    "# See Above"
   ]
  },
  {
   "cell_type": "markdown",
   "metadata": {},
   "source": [
    "##### Setting Defaults for Attributes"
   ]
  },
  {
   "cell_type": "code",
   "execution_count": null,
   "metadata": {},
   "outputs": [],
   "source": [
    "# See Above "
   ]
  },
  {
   "cell_type": "markdown",
   "metadata": {},
   "source": [
    "##### Changing Class Attributes <br>\n",
    "<p>Keep in mind there are global class attributes and then there are attributes only available to each class instance which won't effect other classes.</p>"
   ]
  },
  {
   "cell_type": "code",
   "execution_count": 27,
   "metadata": {},
   "outputs": [
    {
     "name": "stdout",
     "output_type": "stream",
     "text": [
      "2.0L\n",
      "4.7L\n"
     ]
    }
   ],
   "source": [
    "Car.engine = '2.0L' #changed engine size #see above \n",
    "print(Car.engine)\n",
    "ford.engine\n",
    "Car.engine = '4.7L'\n",
    "print(Car.engine)"
   ]
  },
  {
   "cell_type": "code",
   "execution_count": 28,
   "metadata": {},
   "outputs": [
    {
     "name": "stdout",
     "output_type": "stream",
     "text": [
      "2.0L\n",
      "4.7L\n"
     ]
    }
   ],
   "source": [
    "ford.engine = '2.0L'\n",
    "print(ford.engine)\n",
    "print(Car.engine)"
   ]
  },
  {
   "cell_type": "markdown",
   "metadata": {},
   "source": [
    "##### In-Class Exercise #2 - Add a doors and seats attribute to your 'Car' class then print out two different instances with different doors and seats"
   ]
  },
  {
   "cell_type": "code",
   "execution_count": 41,
   "metadata": {},
   "outputs": [
    {
     "name": "stdout",
     "output_type": "stream",
     "text": [
      "4\n",
      "Tesla seats 4 people and has 4 doors. \n",
      "Van seats 6 people and has 4 doors.\n"
     ]
    }
   ],
   "source": [
    "class Car():   \n",
    "    def __init__(self, doors, seats):\n",
    "        self.doors = doors\n",
    "        self.seats = seats\n",
    "\n",
    "tesla = Car(4,4)\n",
    "van = Car(4,6)\n",
    "\n",
    "\n",
    "print(tesla.doors)\n",
    "print(f'Tesla seats {tesla.seats} people and has {tesla.doors} doors. ')\n",
    "print(f'Van seats {van.seats} people and has {van.doors} doors.' )\n",
    "\n",
    "    \n",
    "    "
   ]
  },
  {
   "cell_type": "markdown",
   "metadata": {},
   "source": [
    "## Instance Methods <br>\n",
    "<p>While inside of a class, functions are referred to as 'methods'. If you hear someone mention methods, they're speaking about classes. Methods are essentially functions, but only callable on the instances of a class.</p>"
   ]
  },
  {
   "cell_type": "markdown",
   "metadata": {},
   "source": [
    "##### Creating"
   ]
  },
  {
   "cell_type": "code",
   "execution_count": null,
   "metadata": {},
   "outputs": [],
   "source": [
    "class Car():\n",
    "    def __init__(self, wheels, color, seats): \n",
    "        self.wheels = wheels\n",
    "        self.color = color\n",
    "        self.seats = seats \n",
    "        self.sunroof = True\n",
    "    \n",
    "    def drive(self):\n",
    "        print('VROOOOM')\n",
    "    \n",
    "    def set_color(self, new_color):\n",
    "        self.color = new_color \n",
    "        \n",
    "    def describe(self):\n",
    "        print(f'the car is {self.color} with {self.seats} seats and {self.wheels} wheels\")\n",
    "    \n",
    "    def add_seats(self):\n",
    "        self.seats += 1\n",
    "    "
   ]
  },
  {
   "cell_type": "code",
   "execution_count": 50,
   "metadata": {},
   "outputs": [
    {
     "ename": "TypeError",
     "evalue": "__init__() takes 3 positional arguments but 4 were given",
     "output_type": "error",
     "traceback": [
      "\u001b[0;31m---------------------------------------------------------------------------\u001b[0m",
      "\u001b[0;31mTypeError\u001b[0m                                 Traceback (most recent call last)",
      "\u001b[0;32m/var/folders/3x/v1875rwn4qgc6kcntq6vxv1c0000gn/T/ipykernel_92978/438568290.py\u001b[0m in \u001b[0;36m<module>\u001b[0;34m\u001b[0m\n\u001b[0;32m----> 1\u001b[0;31m \u001b[0mchevy\u001b[0m \u001b[0;34m=\u001b[0m \u001b[0mCar\u001b[0m\u001b[0;34m(\u001b[0m\u001b[0;36m4\u001b[0m\u001b[0;34m,\u001b[0m\u001b[0;34m'red'\u001b[0m\u001b[0;34m,\u001b[0m \u001b[0;36m8\u001b[0m\u001b[0;34m)\u001b[0m\u001b[0;34m\u001b[0m\u001b[0;34m\u001b[0m\u001b[0m\n\u001b[0m\u001b[1;32m      2\u001b[0m \u001b[0mchevy\u001b[0m\u001b[0;34m.\u001b[0m\u001b[0mdrive\u001b[0m\u001b[0;34m(\u001b[0m\u001b[0;34m)\u001b[0m\u001b[0;34m\u001b[0m\u001b[0;34m\u001b[0m\u001b[0m\n\u001b[1;32m      3\u001b[0m \u001b[0mchevy\u001b[0m\u001b[0;34m.\u001b[0m\u001b[0mdescribe\u001b[0m\u001b[0;34m(\u001b[0m\u001b[0;34m)\u001b[0m\u001b[0;34m\u001b[0m\u001b[0;34m\u001b[0m\u001b[0m\n\u001b[1;32m      4\u001b[0m \u001b[0mchey\u001b[0m\u001b[0;34m.\u001b[0m\u001b[0mset_color\u001b[0m\u001b[0;34m(\u001b[0m\u001b[0;34m'green'\u001b[0m\u001b[0;34m)\u001b[0m\u001b[0;34m\u001b[0m\u001b[0;34m\u001b[0m\u001b[0m\n\u001b[1;32m      5\u001b[0m \u001b[0mchevy\u001b[0m\u001b[0;34m.\u001b[0m\u001b[0madd_seats\u001b[0m\u001b[0;34m(\u001b[0m\u001b[0;34m)\u001b[0m\u001b[0;34m\u001b[0m\u001b[0;34m\u001b[0m\u001b[0m\n",
      "\u001b[0;31mTypeError\u001b[0m: __init__() takes 3 positional arguments but 4 were given"
     ]
    }
   ],
   "source": [
    "chevy = Car(4,'red', 8)\n",
    "chevy.drive()\n",
    "chevy.describe()\n",
    "chey.set_color('green')\n",
    "chevy.add_seats()\n",
    "chevy.describe()"
   ]
  },
  {
   "cell_type": "markdown",
   "metadata": {},
   "source": [
    "##### Calling"
   ]
  },
  {
   "cell_type": "code",
   "execution_count": null,
   "metadata": {},
   "outputs": [],
   "source": [
    "# See Above"
   ]
  },
  {
   "cell_type": "markdown",
   "metadata": {},
   "source": [
    "##### Modifying an Attribute's Value Through a Method"
   ]
  },
  {
   "cell_type": "code",
   "execution_count": null,
   "metadata": {},
   "outputs": [],
   "source": []
  },
  {
   "cell_type": "markdown",
   "metadata": {},
   "source": [
    "##### Incrementing an Attribute's Value Through a Method"
   ]
  },
  {
   "cell_type": "code",
   "execution_count": null,
   "metadata": {},
   "outputs": [],
   "source": []
  },
  {
   "cell_type": "markdown",
   "metadata": {},
   "source": [
    "##### In-Class Exercise #3 - Add a method that takes in three parameters of year, doors and seats and prints out a formatted print statement with make, model, year, seats, and doors"
   ]
  },
  {
   "cell_type": "code",
   "execution_count": 60,
   "metadata": {},
   "outputs": [
    {
     "name": "stdout",
     "output_type": "stream",
     "text": [
      "f this car is a {self.year} {self.make} and {self.doors}\n",
      "f this car is a {self.year} {self.make} and {self.doors}\n",
      "mazda cx-5 is better than ford POS\n",
      "ford POS is better than mazda cx-5\n"
     ]
    }
   ],
   "source": [
    "# Create class with 2 paramters inside of the __init__ which are make and model\n",
    "\n",
    "# Inside of the Car class create a method that has 4 parameter in total (self,year,door,seats)\n",
    "\n",
    "# Output: This car is from 2019 and is a Ford Expolorer and has 4 doors and 5 seats\n",
    "\n",
    "class Car():\n",
    "    def __init__(self, make, model):\n",
    "        self.make = make\n",
    "        self.model = model\n",
    "        self.year = None\n",
    "        self.doors = None\n",
    "        self.seats = None\n",
    "    \n",
    "    def add_details(self, year, doors, seats):\n",
    "        self.year = year\n",
    "        self.doors = doors\n",
    "        self.seats = seats\n",
    "    \n",
    "    def describe(self):\n",
    "        print('f this car is a {self.year} {self.make} and {self.doors}')\n",
    "    \n",
    "    @classmethod\n",
    "    def which_is_better(cls, car1, car2): \n",
    "        if car1.doors > car2.doors: \n",
    "            print(f'{car1.make} {car1.model} is better than {car2.make} {car2.model}')\n",
    "        else:\n",
    "            print(f'{car1.make} {car1.model} is better than {car2.make} {car2.model}')\n",
    "        \n",
    "\n",
    "my_car = Car('mazda', 'cx-5')\n",
    "my_car.describe()\n",
    "my_car.add_details(2021, 4, 5)\n",
    "my_car.describe() \n",
    "your_car = Car('ford', 'POS')\n",
    "your_car.add_details(1991, 2, 4)\n",
    "                  \n",
    "# my_car.which_is_better(your_car)\n",
    "\n",
    "# your_car.which_is_better(my_car)\n",
    "\n",
    "Car.which_is_better(my_car, your_car)\n",
    "my_car.which_is_better(your_car, my_car)"
   ]
  },
  {
   "cell_type": "markdown",
   "metadata": {},
   "source": [
    "## Inheritance <br>\n",
    "<p>You can create a child-parent relationship between two classes by using inheritance. What this allows you to do is have overriding methods, but also inherit traits from the parent class. Think of it as an actual parent and child, the child will inherit the parent's genes, as will the classes in OOP</p>"
   ]
  },
  {
   "cell_type": "markdown",
   "metadata": {},
   "source": [
    "##### Syntax for Inheriting from a Parent Class"
   ]
  },
  {
   "cell_type": "code",
   "execution_count": 69,
   "metadata": {},
   "outputs": [
    {
     "name": "stdout",
     "output_type": "stream",
     "text": [
      "some generic animal sound\n",
      "galloping\n",
      "the dog has 15 m/s and 9.8 m/s**2\n",
      "bark!!\n",
      "galloping\n",
      "Black lab\n",
      "True\n",
      "<class '__main__.Dog'>\n"
     ]
    }
   ],
   "source": [
    "class Animal():\n",
    "    acc = 9.8\n",
    "    def __init__(self, name, species, legs=4):\n",
    "        self.name = name\n",
    "        self.species = species\n",
    "        self.legs = legs\n",
    "        \n",
    "    def speak(self):\n",
    "        print(\"some generic animal sound\")\n",
    "        \n",
    "    def run(self):\n",
    "        print('galloping')\n",
    "\n",
    "zebra = Animal('zee', 'Zebra')\n",
    "zebra.speak()\n",
    "zebra.run()\n",
    "\n",
    "class Dog(Animal):\n",
    "    speed = 15\n",
    "    def __init__(self, is_house_trained, name, species, legs=4):\n",
    "        super().__init__(name, species, legs=4)\n",
    "        self.is_house_trained = is_house_trained\n",
    "    \n",
    "    def describe(self):\n",
    "        print(f'the dog has {self.speed} m/s and {self.acc} m/s**2')\n",
    "        \n",
    "    def speak(self): #overrides parent class\n",
    "        print('bark!!')\n",
    "        \n",
    "nala = Dog(True, 'Nala', 'Black lab')\n",
    "nala.describe()\n",
    "nala.speak()\n",
    "nala.run()\n",
    "print(nala.species)\n",
    "print(nala.is_house_trained)\n",
    "print(type(nala))"
   ]
  },
  {
   "cell_type": "code",
   "execution_count": 71,
   "metadata": {},
   "outputs": [
    {
     "name": "stdout",
     "output_type": "stream",
     "text": [
      "True\n",
      "True\n",
      "True\n"
     ]
    }
   ],
   "source": [
    "print(isinstance('Hey', str))\n",
    "print(isinstance(nala, Dog))\n",
    "print(isinstance(nala, Animal))"
   ]
  },
  {
   "cell_type": "code",
   "execution_count": 74,
   "metadata": {},
   "outputs": [
    {
     "name": "stdout",
     "output_type": "stream",
     "text": [
      "the dog has 15 m/s and 9.8 m/s**2\n",
      "the mutt is a mix of Pitbull and boxer\n",
      "bark!!\n",
      "galloping\n"
     ]
    }
   ],
   "source": [
    "#if dog was the parent and had a child \n",
    "class Mutt(Dog):\n",
    "    def __init__(self, second_species, is_house_trained, name, species, legs =4):\n",
    "        super().__init__(is_house_trained, name, species, legs=4)\n",
    "        self.second_species = second_species \n",
    "        \n",
    "    def describe(self):\n",
    "        print(f'the mutt is a mix of {self.species} and {self.second_species}')\n",
    "\n",
    "nala.describe()\n",
    "tippi = Mutt('boxer', True, 'Tippi', 'Pitbull')\n",
    "tippi.describe()\n",
    "tippi.speak()\n",
    "tippi.run()"
   ]
  },
  {
   "cell_type": "markdown",
   "metadata": {},
   "source": [
    "##### The \\__init\\__() Method for a Child Class - super()"
   ]
  },
  {
   "cell_type": "code",
   "execution_count": null,
   "metadata": {},
   "outputs": [],
   "source": []
  },
  {
   "cell_type": "markdown",
   "metadata": {},
   "source": [
    "##### Defining Attributes and Methods for the Child Class"
   ]
  },
  {
   "cell_type": "code",
   "execution_count": null,
   "metadata": {},
   "outputs": [],
   "source": [
    "# See Above"
   ]
  },
  {
   "cell_type": "markdown",
   "metadata": {},
   "source": [
    "##### Method Overriding"
   ]
  },
  {
   "cell_type": "code",
   "execution_count": null,
   "metadata": {},
   "outputs": [],
   "source": [
    "# See Above"
   ]
  },
  {
   "cell_type": "markdown",
   "metadata": {},
   "source": [
    "## Classes as Attributes <br>\n",
    "<p>Classes can also be used as attributes within another class. This is useful in situations where you need to keep variables locally stored, instead of globally stored.</p>"
   ]
  },
  {
   "cell_type": "code",
   "execution_count": 81,
   "metadata": {},
   "outputs": [
    {
     "ename": "AttributeError",
     "evalue": "'ElectricCar' object has no attribute 'cells'",
     "output_type": "error",
     "traceback": [
      "\u001b[0;31m---------------------------------------------------------------------------\u001b[0m",
      "\u001b[0;31mAttributeError\u001b[0m                            Traceback (most recent call last)",
      "\u001b[0;32m/var/folders/3x/v1875rwn4qgc6kcntq6vxv1c0000gn/T/ipykernel_92978/946065547.py\u001b[0m in \u001b[0;36m<module>\u001b[0;34m\u001b[0m\n\u001b[1;32m     19\u001b[0m \u001b[0;34m\u001b[0m\u001b[0m\n\u001b[1;32m     20\u001b[0m \u001b[0mtesla\u001b[0m \u001b[0;34m=\u001b[0m \u001b[0mElectricCar\u001b[0m\u001b[0;34m(\u001b[0m\u001b[0;36m2020\u001b[0m\u001b[0;34m,\u001b[0m \u001b[0;34m'tesla'\u001b[0m\u001b[0;34m,\u001b[0m \u001b[0mBattery\u001b[0m\u001b[0;34m(\u001b[0m\u001b[0;36m20\u001b[0m\u001b[0;34m)\u001b[0m\u001b[0;34m)\u001b[0m\u001b[0;34m\u001b[0m\u001b[0;34m\u001b[0m\u001b[0m\n\u001b[0;32m---> 21\u001b[0;31m \u001b[0mtesla\u001b[0m\u001b[0;34m.\u001b[0m\u001b[0mdescribe\u001b[0m\u001b[0;34m(\u001b[0m\u001b[0;34m)\u001b[0m\u001b[0;34m\u001b[0m\u001b[0;34m\u001b[0m\u001b[0m\n\u001b[0m\u001b[1;32m     22\u001b[0m \u001b[0mtesla\u001b[0m\u001b[0;34m.\u001b[0m\u001b[0mbattery\u001b[0m\u001b[0;34m.\u001b[0m\u001b[0mrecharge\u001b[0m\u001b[0;34m(\u001b[0m\u001b[0;34m)\u001b[0m\u001b[0;34m\u001b[0m\u001b[0;34m\u001b[0m\u001b[0m\n",
      "\u001b[0;32m/var/folders/3x/v1875rwn4qgc6kcntq6vxv1c0000gn/T/ipykernel_92978/946065547.py\u001b[0m in \u001b[0;36mdescribe\u001b[0;34m(self)\u001b[0m\n\u001b[1;32m      6\u001b[0m \u001b[0;34m\u001b[0m\u001b[0m\n\u001b[1;32m      7\u001b[0m     \u001b[0;32mdef\u001b[0m \u001b[0mdescribe\u001b[0m\u001b[0;34m(\u001b[0m\u001b[0mself\u001b[0m\u001b[0;34m)\u001b[0m\u001b[0;34m:\u001b[0m\u001b[0;34m\u001b[0m\u001b[0;34m\u001b[0m\u001b[0m\n\u001b[0;32m----> 8\u001b[0;31m         \u001b[0mprint\u001b[0m\u001b[0;34m(\u001b[0m\u001b[0mself\u001b[0m\u001b[0;34m.\u001b[0m\u001b[0myear\u001b[0m\u001b[0;34m,\u001b[0m \u001b[0mself\u001b[0m\u001b[0;34m.\u001b[0m\u001b[0mmake\u001b[0m\u001b[0;34m,\u001b[0m \u001b[0mself\u001b[0m\u001b[0;34m.\u001b[0m\u001b[0mbattery\u001b[0m\u001b[0;34m.\u001b[0m\u001b[0mvolts\u001b[0m\u001b[0;34m,\u001b[0m \u001b[0mself\u001b[0m\u001b[0;34m.\u001b[0m\u001b[0mbattery\u001b[0m\u001b[0;34m.\u001b[0m\u001b[0mtime\u001b[0m\u001b[0;34m,\u001b[0m \u001b[0mself\u001b[0m\u001b[0;34m.\u001b[0m\u001b[0mcells\u001b[0m\u001b[0;34m)\u001b[0m\u001b[0;34m\u001b[0m\u001b[0;34m\u001b[0m\u001b[0m\n\u001b[0m\u001b[1;32m      9\u001b[0m \u001b[0;34m\u001b[0m\u001b[0m\n\u001b[1;32m     10\u001b[0m \u001b[0;32mclass\u001b[0m \u001b[0mBattery\u001b[0m\u001b[0;34m(\u001b[0m\u001b[0;34m)\u001b[0m\u001b[0;34m:\u001b[0m\u001b[0;34m\u001b[0m\u001b[0;34m\u001b[0m\u001b[0m\n",
      "\u001b[0;31mAttributeError\u001b[0m: 'ElectricCar' object has no attribute 'cells'"
     ]
    }
   ],
   "source": [
    "class ElectricCar():\n",
    "    def __init__(self, year, make, a_battery):\n",
    "        self.year = year\n",
    "        self.make = make\n",
    "        self.battery= a_battery\n",
    "        \n",
    "    def describe(self):\n",
    "        print(self.year, self.make, self.battery.volts, self.battery.time, self.cells)\n",
    "\n",
    "class Battery():\n",
    "    volts = 7.8\n",
    "    def __init__(self, cells):\n",
    "        self.cells = cells\n",
    "        self.time = 6\n",
    "        self.var = 'my_battery'\n",
    "    \n",
    "    def recharge(self):\n",
    "        print('recharging')\n",
    "\n",
    "tesla = ElectricCar(2020, 'tesla', Battery(20))\n",
    "tesla.describe()\n",
    "tesla.battery.recharge()"
   ]
  },
  {
   "cell_type": "code",
   "execution_count": 82,
   "metadata": {},
   "outputs": [
    {
     "name": "stdout",
     "output_type": "stream",
     "text": [
      "what do you want to do? Run or Quit or Rant?run\n",
      "Eryn says huff and puff, Boy am I a fat slob\n",
      "what do you want to do? Run or Quit or Rant?rant\n",
      "Eryn says Epistien didn't kill himself\n",
      "what do you want to do? Run or Quit or Rant?quit\n"
     ]
    }
   ],
   "source": [
    "class UI():\n",
    "    def __init__(self, person):\n",
    "        self.person = person \n",
    "        \n",
    "    def run_program(self):\n",
    "        while True:\n",
    "            response= input('what do you want to do? Run or Quit or Rant?')\n",
    "            \n",
    "            if response.lower() == 'quit':\n",
    "                break\n",
    "            elif response.lower() == 'run':\n",
    "                self.person.run()\n",
    "            elif response.lower() == 'rant':\n",
    "                self.person.rant()\n",
    "                \n",
    "class Person():\n",
    "    def __init__(self, name, age):\n",
    "        self.name = name\n",
    "        self.age = age\n",
    "        \n",
    "    def run(self):\n",
    "        print(f'{self.name} says huff and puff, Boy am I a fat slob')\n",
    "        \n",
    "    def rant(self):\n",
    "        print(f\"{self.name} says Epistien didn't kill himself\")\n",
    "\n",
    "eryn = Person('Eryn', 21)\n",
    "ui = UI(eryn)\n",
    "ui.run_program()\n"
   ]
  },
  {
   "cell_type": "code",
   "execution_count": 84,
   "metadata": {},
   "outputs": [
    {
     "name": "stdout",
     "output_type": "stream",
     "text": [
      "brushing\n",
      "i have no legs!!\n"
     ]
    }
   ],
   "source": [
    "class FourLegs:\n",
    "    @classmethod\n",
    "    def run(cls):\n",
    "        print('run on 4 legs')\n",
    "        \n",
    "class Furry:\n",
    "    @classmethod\n",
    "    def brush(cls):\n",
    "        print('brushing')\n",
    "        \n",
    "    @classmethod\n",
    "    def run(cls):\n",
    "        print('i have no legs!!')\n",
    "        \n",
    "class Dog(Furry, FourLegs): #the first class will win, in cases' where there are 2 classes\n",
    "    def __init__(self):\n",
    "        super().__init__()\n",
    "\n",
    "buster = Dog()\n",
    "buster.brush()\n",
    "buster.run()"
   ]
  },
  {
   "cell_type": "markdown",
   "metadata": {},
   "source": [
    "# Exercises"
   ]
  },
  {
   "cell_type": "markdown",
   "metadata": {},
   "source": [
    "### Exercise 1 - Turn the shopping cart program from yesterday into an object-oriented program"
   ]
  },
  {
   "cell_type": "code",
   "execution_count": null,
   "metadata": {},
   "outputs": [],
   "source": [
    "# Create a class called cart that retains items and has methods to add, remove, and show\n",
    "\n",
    "class Cart():\n",
    "    cart = []\n",
    "    def __init__(self, add, show, remove):\n",
    "        self.add = add\n",
    "        self.show = show\n",
    "        self.remove = remove\n",
    "        \n",
    "    def add_item(item):\n",
    "        cart.append(item)\n",
    "        print(f'{item} was added to your cart')\n",
    "    \n",
    "    def show_cart():\n",
    "        print(\"Your cart contains: \")\n",
    "        print(cart)\n",
    "    \n",
    "    def remove_item(item):\n",
    "        cart.remove(item)\n",
    "        print(f'{item} was removed from your cart')\n",
    "\n",
    "my_cart = Cart()\n",
    "\n",
    "\n",
    "\n",
    "\n",
    "    "
   ]
  },
  {
   "cell_type": "markdown",
   "metadata": {},
   "source": [
    "### Exercise 2 - Write a Python class which has two methods get_String and print_String. get_String accept a string from the user and print_String print the string in upper case"
   ]
  },
  {
   "cell_type": "code",
   "execution_count": 40,
   "metadata": {},
   "outputs": [
    {
     "name": "stdout",
     "output_type": "stream",
     "text": [
      "Enter a word: hello\n",
      "hello\n"
     ]
    },
    {
     "data": {
      "text/plain": [
       "'<built-in method upper of str object at 0x7f94248d8270>'"
      ]
     },
     "execution_count": 40,
     "metadata": {},
     "output_type": "execute_result"
    }
   ],
   "source": [
    "class Python():\n",
    "    \n",
    "    def __init__(self):\n",
    "        self.self = self\n",
    "    \n",
    "    def get_string(self, test):\n",
    "        test= input('Enter a word: ')\n",
    "        print(test)\n",
    "    \n",
    "    def print_string(self, test):\n",
    "        test = 'hello'\n",
    "        print(str(test.upper))\n",
    "\n",
    "test = Python()\n",
    "test.get_string(test)\n",
    "test.print_string(test)\n",
    "\n",
    "              \n",
    "        \n",
    "        "
   ]
  },
  {
   "cell_type": "code",
   "execution_count": null,
   "metadata": {},
   "outputs": [],
   "source": []
  }
 ],
 "metadata": {
  "kernelspec": {
   "display_name": "Python 3 (ipykernel)",
   "language": "python",
   "name": "python3"
  },
  "language_info": {
   "codemirror_mode": {
    "name": "ipython",
    "version": 3
   },
   "file_extension": ".py",
   "mimetype": "text/x-python",
   "name": "python",
   "nbconvert_exporter": "python",
   "pygments_lexer": "ipython3",
   "version": "3.9.7"
  }
 },
 "nbformat": 4,
 "nbformat_minor": 2
}
